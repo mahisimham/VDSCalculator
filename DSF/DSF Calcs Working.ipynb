{
 "cells": [
  {
   "cell_type": "markdown",
   "id": "6b9e4e9c-4b26-43f4-bb06-947b358fb893",
   "metadata": {},
   "source": [
    "### DSF Calculations"
   ]
  },
  {
   "cell_type": "markdown",
   "id": "8041d649-f620-4da2-9fbb-cd231dbbf2b5",
   "metadata": {},
   "source": [
    "#### Elutions"
   ]
  },
  {
   "cell_type": "code",
   "execution_count": 357,
   "id": "91053cf6-5d40-4e6e-b3f7-9a6a5ce3256d",
   "metadata": {},
   "outputs": [],
   "source": [
    "import pandas as pd"
   ]
  },
  {
   "cell_type": "code",
   "execution_count": 358,
   "id": "0804edd0-b835-406e-b209-cf486accc7cd",
   "metadata": {},
   "outputs": [],
   "source": [
    "#common variables\n",
    "total_volume = 20\n",
    "num_total_elutions = 0\n",
    "num_concentrations = 0\n",
    "elution_type = ''\n",
    "elution_abs = 0\n",
    "molar_abs = 0\n",
    "b = 1\n",
    "all_stock_concentrations = []\n",
    "buffer_list = []\n",
    "nanopure_list = []\n",
    "elution_list = []\n",
    "sypro_list = []\n",
    "all_sample_volumes = [buffer_list, nanopure_list, elution_list, sypro_list]\n",
    "index_names = [\"Buffer (uL)\", \"Nanopure (uL)\", \"Elution (uL)\", \"Sypro Dilution (uL)\"]\n",
    "df_list = []"
   ]
  },
  {
   "cell_type": "code",
   "execution_count": 359,
   "id": "cd0e4f06-271d-4c33-b12b-3bb070c70822",
   "metadata": {},
   "outputs": [],
   "source": [
    "def intro_questions():\n",
    "    # 1. Get num of elutions\n",
    "    num_total_elutions = int(input(\"What are the number total elutions are you using (integer)? \"))\n",
    "    print()\n",
    "    num_concentrations = int(input(\"What are the number of concentrations you need per elution (integer)? \"))\n",
    "    print()\n",
    "    return num_concentrations"
   ]
  },
  {
   "cell_type": "code",
   "execution_count": 360,
   "id": "044bdf6f-dfb4-4761-aef9-e277f871e8ec",
   "metadata": {},
   "outputs": [],
   "source": [
    "def elution_questions():\n",
    "    # 2. Get labels for elutions\n",
    "    print(\"If you are testing multiple purifications, indicate this by Elution 1 (1), Elution 1 (2), etc\")\n",
    "    print()\n",
    "    elution_type = input(\"Which elution is this? (Enter 'Elution 1' or 'Elution 2', without quotes) \")\n",
    "    print()\n",
    "    return elution_type"
   ]
  },
  {
   "cell_type": "code",
   "execution_count": 361,
   "id": "8f5a457e-dbf9-42b5-a483-495cb5dca665",
   "metadata": {},
   "outputs": [],
   "source": [
    "def loop_concentrations(elution_abs, molar_abs, num_concentrations):\n",
    "    # 3. Runs once for each number of concentration\n",
    "    for con in range(1, num_concentrations + 1):\n",
    "        count = 0\n",
    "        concentration = (elution_abs/molar_abs) * b\n",
    "        uM = concentration * pow(10, 6)\n",
    "\n",
    "        # 4. Calculate amount of elution needed\n",
    "        if con == 1:\n",
    "            stock_concentration = float(input(\"What is the desired final stock concentration? \"))\n",
    "        else:\n",
    "            stock_concentration = float(input(\"What is the next desired final stock concentration? \"))\n",
    "        print()\n",
    "        stock_conc = str(stock_concentration) + \" uM\"\n",
    "        all_stock_concentrations.append(stock_conc)\n",
    "\n",
    "        volume1 = (total_volume * stock_concentration)/uM\n",
    "        dilution_count = 0\n",
    "        diluted_elution = volume1\n",
    "\n",
    "        #5. Determine if elution dilution is needed and by how many times\n",
    "        while volume1 < 1:\n",
    "            count += 1\n",
    "            volume1 = (total_volume * stock_concentration)/(uM/10)\n",
    "\n",
    "        if count == 0:\n",
    "            print(f\"{round(volume1, 2)} ul of elution is needed for a 20 ul final volume. No dilution necessary\")\n",
    "        else:\n",
    "            print(f\"{round(volume1, 2)} ul of elution is needed. Do a {count} time(s) serial dilution\")\n",
    "            diluted_elution = volume1\n",
    "            if count == 1:\n",
    "                diluted_elution = (total_volume * stock_concentration)/(uM/10)\n",
    "                print(\"Make a dilution with 1 ul of elution and 9 ul of nanopure\")\n",
    "                print()\n",
    "                print(f\"The diluted elution needed for a 20 ul final volume is {round(diluted_elution, 2)} ul\")\n",
    "            else:\n",
    "                for num in (1, count):\n",
    "                    print(num)\n",
    "                    diluted_elution = (total_volume * stock_concentration)/(uM/10)\n",
    "                    print(\"Make another dilution with 1 ul of the previous dilution and 9 ul of nanopure\")\n",
    "                    print()\n",
    "                    print(f\"The diluted elution needed is {round(diluted_elution, 2)} ul for a 20 ul final volume\")\n",
    "            count = 0\n",
    "\n",
    "        # 6. Calculate amounts for 1 sample\n",
    "        buffer = 5\n",
    "        elution = diluted_elution\n",
    "        sypro_dilution = 0.5\n",
    "        nanopure = total_volume - buffer - elution - sypro_dilution\n",
    "\n",
    "        # 7. Calculate amounts for desired amount of samples (1 concentration)\n",
    "        num_samples = int(input(\"How many samples are needed? \"))\n",
    "        total_calc = num_samples + 1\n",
    "        print(f\"Calculating for {total_calc} samples (for extra)...\")\n",
    "        this_sample_volumes = [buffer * total_calc, round(nanopure * total_calc, 2), round(elution * total_calc, 2), sypro_dilution * total_calc]\n",
    "        #can change method\n",
    "        buffer_list.append(this_sample_volumes[0])\n",
    "        nanopure_list.append(this_sample_volumes[1])\n",
    "        elution_list.append(this_sample_volumes[2])\n",
    "        sypro_list.append(this_sample_volumes[3])\n",
    "        print()"
   ]
  },
  {
   "cell_type": "code",
   "execution_count": 362,
   "id": "f6124827-5a4b-4c1d-8fdd-57c3b6143e76",
   "metadata": {},
   "outputs": [],
   "source": [
    "# 8. Print table\n",
    "def print_table(elution_type):\n",
    "    df = pd.DataFrame(all_sample_volumes, index=index_names, columns=all_stock_concentrations)\n",
    "    df.columns.name = elution_type + \" Calcs\"\n",
    "    df_list.append(df)\n",
    "    print(f\"Table for {elution_type} DSF calculations:\")\n",
    "    display(df)\n",
    "    buffer_list.clear()\n",
    "    nanopure_list.clear()\n",
    "    elution_list.clear()\n",
    "    sypro_list.clear()\n",
    "    all_stock_concentrations.clear()\n",
    "    stock_concentration = 0"
   ]
  },
  {
   "cell_type": "code",
   "execution_count": 363,
   "id": "298e992a-a2e3-46ba-a8bf-26bb7aa37a94",
   "metadata": {},
   "outputs": [],
   "source": [
    "def run_dsf_calcs():\n",
    "    num_concentrations = intro_questions()\n",
    "    for e in (1, num_total_elutions):\n",
    "        if e == 1:\n",
    "            print(\"The first question will ask which elution this is.\")\n",
    "        else:\n",
    "            print(\"The next question will ask which elution this is.\")\n",
    "        elution_type = elution_questions()\n",
    "        elution_abs = float(input(\"What is your Elution absorbance value (Abs280, not mg/ml, in decimals)? \"))\n",
    "        molar_abs = float(input(\"What is your molar absorptivity (E) value for your target (can be integer or decimal)? \"))\n",
    "        loop_concentrations(elution_abs, molar_abs, num_concentrations)\n",
    "        print_table(elution_type)\n",
    "    sypro_calc()"
   ]
  },
  {
   "cell_type": "markdown",
   "id": "2a878d02-4009-476a-8a45-a7a55f7bb21f",
   "metadata": {},
   "source": [
    "#### Controls"
   ]
  },
  {
   "cell_type": "code",
   "execution_count": 364,
   "id": "9c7f4507-86a3-433f-95ad-95eab5c5ffd2",
   "metadata": {},
   "outputs": [],
   "source": [
    "total_ctrls = 0\n",
    "buffer2_list = []\n",
    "nanopure2_list = []\n",
    "lysozyme_list = []\n",
    "sypro2_list = []\n",
    "all_ctrl_volumes = [buffer2_list, nanopure2_list, lysozyme_list, sypro2_list]\n",
    "index_names_lys = [\"Buffer (uL)\", \"Nanopure (uL)\", \"Lysozyme/Water (uL)\", \"Sypro Dilution (uL)\"]\n",
    "controls = ['Lysozyme (Diluted)', 'Water']"
   ]
  },
  {
   "cell_type": "code",
   "execution_count": 365,
   "id": "30863e74-46ca-4a5d-acfa-91098bf63b2b",
   "metadata": {},
   "outputs": [],
   "source": [
    "def intro2_questions():\n",
    "    total_ctrls = int(input(\"How many samples of lysozyme and water do you need? \"))\n",
    "    return total_ctrls"
   ]
  },
  {
   "cell_type": "code",
   "execution_count": 366,
   "id": "8eafadd3-f3ee-4088-9571-79f02728a44f",
   "metadata": {},
   "outputs": [],
   "source": [
    "def do_calcs(total_ctrls):\n",
    "    buffer = 5\n",
    "    lysozyme = 2.86\n",
    "    sypro_dilution = 0.5\n",
    "    nanopure = total_volume - buffer - lysozyme - sypro_dilution\n",
    "    this_sample_volumes = [buffer * total_ctrls, round(nanopure * total_ctrls, 2), round(lysozyme * total_ctrls, 2), sypro_dilution * total_ctrls]\n",
    "    \n",
    "    buffer2_list.append(this_sample_volumes[0])\n",
    "    nanopure2_list.append(this_sample_volumes[1])\n",
    "    lysozyme_list.append(this_sample_volumes[2])\n",
    "    sypro2_list.append(this_sample_volumes[3])\n",
    "\n",
    "    buffer = 5\n",
    "    lysozyme = 0\n",
    "    sypro_dilution = 0.5\n",
    "    nanopure = 14.5\n",
    "    this_sample_volumes = [buffer * total_ctrls, round(nanopure * total_ctrls, 2), round(lysozyme * total_ctrls, 2), sypro_dilution * total_ctrls]\n",
    "    \n",
    "    buffer2_list.append(this_sample_volumes[0])\n",
    "    nanopure2_list.append(this_sample_volumes[1])\n",
    "    lysozyme_list.append(this_sample_volumes[2])\n",
    "    sypro2_list.append(this_sample_volumes[3])"
   ]
  },
  {
   "cell_type": "code",
   "execution_count": 367,
   "id": "20eeea67-e0c0-4a4b-a076-655ef2618bd2",
   "metadata": {},
   "outputs": [],
   "source": [
    "def print_ctrl_table(elution_type):\n",
    "    df = pd.DataFrame(all_ctrl_volumes, index=index_names_lys, columns=controls)\n",
    "    df.columns.name = 'Control Calcs'\n",
    "    df_list.append(df)\n",
    "    print(f\"Table for {elution_type} DSF calculations:\")\n",
    "    display(df)\n",
    "    buffer2_list.clear()\n",
    "    nanopure2_list.clear()\n",
    "    lysozyme_list.clear()\n",
    "    sypro2_list.clear()\n",
    "    #all_ctrl_volumes.clear()"
   ]
  },
  {
   "cell_type": "code",
   "execution_count": 368,
   "id": "fd55c1ab-e1b3-4d6f-ab2c-4a221070c8d3",
   "metadata": {},
   "outputs": [],
   "source": [
    "def control_calcs():\n",
    "    #lysozyme\n",
    "    total_ctrls = intro2_questions()\n",
    "    do_calcs(total_ctrls)\n",
    "    print(\"Don't forget to dilute the lysozyme with 1 ul stock lysozyme and 999 ul nanopure to get a working dilution\")\n",
    "    print(\"Use the working dilution when creating the mix\")\n",
    "    print()\n",
    "    print_ctrl_table(\"Controls\")"
   ]
  },
  {
   "cell_type": "markdown",
   "id": "ff9c173e-ffa6-4538-8670-295c6397fc66",
   "metadata": {},
   "source": [
    "#### Sypro Dilution"
   ]
  },
  {
   "cell_type": "code",
   "execution_count": 369,
   "id": "92986248-d421-4fa8-ab30-d34cd00d8521",
   "metadata": {},
   "outputs": [],
   "source": [
    "index_names_sypro = [\"5000x Sypro (uL)\", \"Buffer (uL)\", \"Total Volume (uL)\"]\n",
    "column_name = [\"Volume (uL)\"]\n",
    "sypro_volumes = []\n",
    "total_tubes = 0"
   ]
  },
  {
   "cell_type": "code",
   "execution_count": 379,
   "id": "88234125-ba3d-455f-a7ce-851ba7d53984",
   "metadata": {},
   "outputs": [],
   "source": [
    "def sypro_intro():\n",
    "    total_tubes = int(input(\"How many total samples do you have with the elutions and controls? \"))\n",
    "    print()\n",
    "    return total_tubes"
   ]
  },
  {
   "cell_type": "code",
   "execution_count": 371,
   "id": "baffa634-657d-4809-865c-3738c3d8d64b",
   "metadata": {},
   "outputs": [],
   "source": [
    "def sypro_math(total_tubes):\n",
    "    sypro_dil_volume = (total_tubes * 0.5) * 1.15\n",
    "    dye_5000_volume = (200 * sypro_dil_volume)/5000\n",
    "    sypro_volumes.append(dye_5000_volume)\n",
    "    buffer_volume = sypro_dil_volume - dye_5000_volume\n",
    "    sypro_volumes.append(buffer_volume)\n",
    "    sypro_volumes.append(sypro_dil_volume)"
   ]
  },
  {
   "cell_type": "code",
   "execution_count": 372,
   "id": "cff69c57-c901-4196-9245-edf94406ff95",
   "metadata": {},
   "outputs": [],
   "source": [
    "def sypro_print_table():\n",
    "    df = pd.DataFrame(sypro_volumes, index=index_names_sypro, columns=column_name)\n",
    "    df.columns.name = \"200x Sypro Calc\"\n",
    "    df_list.append(df)\n",
    "    print(f\"Table for 200x Sypro calculations from 5000x:\")\n",
    "    display(df)\n",
    "    sypro_tubes = 0\n",
    "    sypro_volumes.clear()"
   ]
  },
  {
   "cell_type": "code",
   "execution_count": 373,
   "id": "4f3ca6bf-6ee3-497d-858c-5819f35e0d07",
   "metadata": {},
   "outputs": [],
   "source": [
    "def sypro_calc():\n",
    "    total_tubes = sypro_intro()\n",
    "    sypro_math(total_tubes)\n",
    "    sypro_print_table()"
   ]
  },
  {
   "cell_type": "markdown",
   "id": "cd5d7435-4826-4bc9-a345-18ba2daac432",
   "metadata": {},
   "source": [
    "#### Print All Tables"
   ]
  },
  {
   "cell_type": "code",
   "execution_count": 374,
   "id": "2a2ee70b-9480-4c0e-af12-16907be6e380",
   "metadata": {},
   "outputs": [],
   "source": [
    "def print_df_tables():\n",
    "    print(\"Here are all the tables for your DSF calculations\")\n",
    "    for df in df_list:\n",
    "        display(df)"
   ]
  },
  {
   "cell_type": "markdown",
   "id": "bd9e4343-150d-4a44-91a0-ce939e52f67f",
   "metadata": {},
   "source": [
    "#### Running the Code"
   ]
  },
  {
   "cell_type": "code",
   "execution_count": 376,
   "id": "3608088c-d0b5-49de-b5f9-4921ba5c4995",
   "metadata": {},
   "outputs": [
    {
     "name": "stdin",
     "output_type": "stream",
     "text": [
      "How many samples of lysozyme and water do you need?  12\n"
     ]
    },
    {
     "name": "stdout",
     "output_type": "stream",
     "text": [
      "Don't forget to dilute the lysozyme with 1 ul stock lysozyme and 999 ul nanopure to get a working dilution\n",
      "Use the working dilution when creating the mix\n",
      "\n",
      "Table for Controls DSF calculations:\n"
     ]
    },
    {
     "data": {
      "text/html": [
       "<div>\n",
       "<style scoped>\n",
       "    .dataframe tbody tr th:only-of-type {\n",
       "        vertical-align: middle;\n",
       "    }\n",
       "\n",
       "    .dataframe tbody tr th {\n",
       "        vertical-align: top;\n",
       "    }\n",
       "\n",
       "    .dataframe thead th {\n",
       "        text-align: right;\n",
       "    }\n",
       "</style>\n",
       "<table border=\"1\" class=\"dataframe\">\n",
       "  <thead>\n",
       "    <tr style=\"text-align: right;\">\n",
       "      <th>Control Calcs</th>\n",
       "      <th>Lysozyme (Diluted)</th>\n",
       "      <th>Water</th>\n",
       "    </tr>\n",
       "  </thead>\n",
       "  <tbody>\n",
       "    <tr>\n",
       "      <th>Buffer (uL)</th>\n",
       "      <td>60.00</td>\n",
       "      <td>60.0</td>\n",
       "    </tr>\n",
       "    <tr>\n",
       "      <th>Nanopure (uL)</th>\n",
       "      <td>139.68</td>\n",
       "      <td>174.0</td>\n",
       "    </tr>\n",
       "    <tr>\n",
       "      <th>Lysozyme/Water (uL)</th>\n",
       "      <td>34.32</td>\n",
       "      <td>0.0</td>\n",
       "    </tr>\n",
       "    <tr>\n",
       "      <th>Sypro Dilution (uL)</th>\n",
       "      <td>6.00</td>\n",
       "      <td>6.0</td>\n",
       "    </tr>\n",
       "  </tbody>\n",
       "</table>\n",
       "</div>"
      ],
      "text/plain": [
       "Control Calcs        Lysozyme (Diluted)  Water\n",
       "Buffer (uL)                       60.00   60.0\n",
       "Nanopure (uL)                    139.68  174.0\n",
       "Lysozyme/Water (uL)               34.32    0.0\n",
       "Sypro Dilution (uL)                6.00    6.0"
      ]
     },
     "metadata": {},
     "output_type": "display_data"
    }
   ],
   "source": [
    "control_calcs()"
   ]
  },
  {
   "cell_type": "code",
   "execution_count": 377,
   "id": "3ba8127f-d1e2-4b43-830e-e7ae75387f03",
   "metadata": {},
   "outputs": [
    {
     "name": "stdin",
     "output_type": "stream",
     "text": [
      "What are the number total elutions are you using (integer)?  2\n"
     ]
    },
    {
     "name": "stdout",
     "output_type": "stream",
     "text": [
      "\n"
     ]
    },
    {
     "name": "stdin",
     "output_type": "stream",
     "text": [
      "What are the number of concentrations you need per elution (integer)?  3\n"
     ]
    },
    {
     "name": "stdout",
     "output_type": "stream",
     "text": [
      "\n",
      "The first question will ask which elution this is.\n",
      "If you are testing multiple purifications, indicate this by Elution 1 (1), Elution 1 (2), etc\n",
      "\n"
     ]
    },
    {
     "name": "stdin",
     "output_type": "stream",
     "text": [
      "Which elution is this? (Enter 'Elution 1' or 'Elution 2', without quotes)  Elution 1\n"
     ]
    },
    {
     "name": "stdout",
     "output_type": "stream",
     "text": [
      "\n"
     ]
    },
    {
     "name": "stdin",
     "output_type": "stream",
     "text": [
      "What is your Elution absorbance value (Abs280, not mg/ml, in decimals)?  1.9377\n",
      "What is your molar absorptivity (E) value for your target (can be integer or decimal)?  31400\n",
      "What is the desired final stock concentration?  5\n"
     ]
    },
    {
     "name": "stdout",
     "output_type": "stream",
     "text": [
      "\n",
      "1.62 ul of elution is needed for a 20 ul final volume. No dilution necessary\n"
     ]
    },
    {
     "name": "stdin",
     "output_type": "stream",
     "text": [
      "How many samples are needed?  3\n"
     ]
    },
    {
     "name": "stdout",
     "output_type": "stream",
     "text": [
      "Calculating for 4 samples (for extra)...\n",
      "\n"
     ]
    },
    {
     "name": "stdin",
     "output_type": "stream",
     "text": [
      "What is the next desired final stock concentration?  10\n"
     ]
    },
    {
     "name": "stdout",
     "output_type": "stream",
     "text": [
      "\n",
      "3.24 ul of elution is needed for a 20 ul final volume. No dilution necessary\n"
     ]
    },
    {
     "name": "stdin",
     "output_type": "stream",
     "text": [
      "How many samples are needed?  3\n"
     ]
    },
    {
     "name": "stdout",
     "output_type": "stream",
     "text": [
      "Calculating for 4 samples (for extra)...\n",
      "\n"
     ]
    },
    {
     "name": "stdin",
     "output_type": "stream",
     "text": [
      "What is the next desired final stock concentration?  20\n"
     ]
    },
    {
     "name": "stdout",
     "output_type": "stream",
     "text": [
      "\n",
      "6.48 ul of elution is needed for a 20 ul final volume. No dilution necessary\n"
     ]
    },
    {
     "name": "stdin",
     "output_type": "stream",
     "text": [
      "How many samples are needed?  3\n"
     ]
    },
    {
     "name": "stdout",
     "output_type": "stream",
     "text": [
      "Calculating for 4 samples (for extra)...\n",
      "\n",
      "Table for Elution 1 DSF calculations:\n"
     ]
    },
    {
     "data": {
      "text/html": [
       "<div>\n",
       "<style scoped>\n",
       "    .dataframe tbody tr th:only-of-type {\n",
       "        vertical-align: middle;\n",
       "    }\n",
       "\n",
       "    .dataframe tbody tr th {\n",
       "        vertical-align: top;\n",
       "    }\n",
       "\n",
       "    .dataframe thead th {\n",
       "        text-align: right;\n",
       "    }\n",
       "</style>\n",
       "<table border=\"1\" class=\"dataframe\">\n",
       "  <thead>\n",
       "    <tr style=\"text-align: right;\">\n",
       "      <th>Elution 1 Calcs</th>\n",
       "      <th>5.0 uM</th>\n",
       "      <th>10.0 uM</th>\n",
       "      <th>20.0 uM</th>\n",
       "    </tr>\n",
       "  </thead>\n",
       "  <tbody>\n",
       "    <tr>\n",
       "      <th>Buffer (uL)</th>\n",
       "      <td>20.00</td>\n",
       "      <td>20.00</td>\n",
       "      <td>20.00</td>\n",
       "    </tr>\n",
       "    <tr>\n",
       "      <th>Nanopure (uL)</th>\n",
       "      <td>51.52</td>\n",
       "      <td>45.04</td>\n",
       "      <td>32.07</td>\n",
       "    </tr>\n",
       "    <tr>\n",
       "      <th>Elution (uL)</th>\n",
       "      <td>6.48</td>\n",
       "      <td>12.96</td>\n",
       "      <td>25.93</td>\n",
       "    </tr>\n",
       "    <tr>\n",
       "      <th>Sypro Dilution (uL)</th>\n",
       "      <td>2.00</td>\n",
       "      <td>2.00</td>\n",
       "      <td>2.00</td>\n",
       "    </tr>\n",
       "  </tbody>\n",
       "</table>\n",
       "</div>"
      ],
      "text/plain": [
       "Elution 1 Calcs      5.0 uM  10.0 uM  20.0 uM\n",
       "Buffer (uL)           20.00    20.00    20.00\n",
       "Nanopure (uL)         51.52    45.04    32.07\n",
       "Elution (uL)           6.48    12.96    25.93\n",
       "Sypro Dilution (uL)    2.00     2.00     2.00"
      ]
     },
     "metadata": {},
     "output_type": "display_data"
    },
    {
     "name": "stdout",
     "output_type": "stream",
     "text": [
      "The next question will ask which elution this is.\n",
      "If you are testing multiple purifications, indicate this by Elution 1 (1), Elution 1 (2), etc\n",
      "\n"
     ]
    },
    {
     "name": "stdin",
     "output_type": "stream",
     "text": [
      "Which elution is this? (Enter 'Elution 1' or 'Elution 2', without quotes)  Elution 2\n"
     ]
    },
    {
     "name": "stdout",
     "output_type": "stream",
     "text": [
      "\n"
     ]
    },
    {
     "name": "stdin",
     "output_type": "stream",
     "text": [
      "What is your Elution absorbance value (Abs280, not mg/ml, in decimals)?  0.9295\n",
      "What is your molar absorptivity (E) value for your target (can be integer or decimal)?  31400\n",
      "What is the desired final stock concentration?  5\n"
     ]
    },
    {
     "name": "stdout",
     "output_type": "stream",
     "text": [
      "\n",
      "3.38 ul of elution is needed for a 20 ul final volume. No dilution necessary\n"
     ]
    },
    {
     "name": "stdin",
     "output_type": "stream",
     "text": [
      "How many samples are needed?  3\n"
     ]
    },
    {
     "name": "stdout",
     "output_type": "stream",
     "text": [
      "Calculating for 4 samples (for extra)...\n",
      "\n"
     ]
    },
    {
     "name": "stdin",
     "output_type": "stream",
     "text": [
      "What is the next desired final stock concentration?  10\n"
     ]
    },
    {
     "name": "stdout",
     "output_type": "stream",
     "text": [
      "\n",
      "6.76 ul of elution is needed for a 20 ul final volume. No dilution necessary\n"
     ]
    },
    {
     "name": "stdin",
     "output_type": "stream",
     "text": [
      "How many samples are needed?  3\n"
     ]
    },
    {
     "name": "stdout",
     "output_type": "stream",
     "text": [
      "Calculating for 4 samples (for extra)...\n",
      "\n"
     ]
    },
    {
     "name": "stdin",
     "output_type": "stream",
     "text": [
      "What is the next desired final stock concentration?  20\n"
     ]
    },
    {
     "name": "stdout",
     "output_type": "stream",
     "text": [
      "\n",
      "13.51 ul of elution is needed for a 20 ul final volume. No dilution necessary\n"
     ]
    },
    {
     "name": "stdin",
     "output_type": "stream",
     "text": [
      "How many samples are needed?  3\n"
     ]
    },
    {
     "name": "stdout",
     "output_type": "stream",
     "text": [
      "Calculating for 4 samples (for extra)...\n",
      "\n",
      "Table for Elution 2 DSF calculations:\n"
     ]
    },
    {
     "data": {
      "text/html": [
       "<div>\n",
       "<style scoped>\n",
       "    .dataframe tbody tr th:only-of-type {\n",
       "        vertical-align: middle;\n",
       "    }\n",
       "\n",
       "    .dataframe tbody tr th {\n",
       "        vertical-align: top;\n",
       "    }\n",
       "\n",
       "    .dataframe thead th {\n",
       "        text-align: right;\n",
       "    }\n",
       "</style>\n",
       "<table border=\"1\" class=\"dataframe\">\n",
       "  <thead>\n",
       "    <tr style=\"text-align: right;\">\n",
       "      <th>Elution 2 Calcs</th>\n",
       "      <th>5.0 uM</th>\n",
       "      <th>10.0 uM</th>\n",
       "      <th>20.0 uM</th>\n",
       "    </tr>\n",
       "  </thead>\n",
       "  <tbody>\n",
       "    <tr>\n",
       "      <th>Buffer (uL)</th>\n",
       "      <td>20.00</td>\n",
       "      <td>20.00</td>\n",
       "      <td>20.00</td>\n",
       "    </tr>\n",
       "    <tr>\n",
       "      <th>Nanopure (uL)</th>\n",
       "      <td>44.49</td>\n",
       "      <td>30.97</td>\n",
       "      <td>3.95</td>\n",
       "    </tr>\n",
       "    <tr>\n",
       "      <th>Elution (uL)</th>\n",
       "      <td>13.51</td>\n",
       "      <td>27.03</td>\n",
       "      <td>54.05</td>\n",
       "    </tr>\n",
       "    <tr>\n",
       "      <th>Sypro Dilution (uL)</th>\n",
       "      <td>2.00</td>\n",
       "      <td>2.00</td>\n",
       "      <td>2.00</td>\n",
       "    </tr>\n",
       "  </tbody>\n",
       "</table>\n",
       "</div>"
      ],
      "text/plain": [
       "Elution 2 Calcs      5.0 uM  10.0 uM  20.0 uM\n",
       "Buffer (uL)           20.00    20.00    20.00\n",
       "Nanopure (uL)         44.49    30.97     3.95\n",
       "Elution (uL)          13.51    27.03    54.05\n",
       "Sypro Dilution (uL)    2.00     2.00     2.00"
      ]
     },
     "metadata": {},
     "output_type": "display_data"
    },
    {
     "name": "stdin",
     "output_type": "stream",
     "text": [
      "How many total samples do you have with the elutions and controls?  30\n"
     ]
    },
    {
     "name": "stdout",
     "output_type": "stream",
     "text": [
      "Table for 200x Sypro calculations from 5000x:\n"
     ]
    },
    {
     "data": {
      "text/html": [
       "<div>\n",
       "<style scoped>\n",
       "    .dataframe tbody tr th:only-of-type {\n",
       "        vertical-align: middle;\n",
       "    }\n",
       "\n",
       "    .dataframe tbody tr th {\n",
       "        vertical-align: top;\n",
       "    }\n",
       "\n",
       "    .dataframe thead th {\n",
       "        text-align: right;\n",
       "    }\n",
       "</style>\n",
       "<table border=\"1\" class=\"dataframe\">\n",
       "  <thead>\n",
       "    <tr style=\"text-align: right;\">\n",
       "      <th>200x Sypro Calc</th>\n",
       "      <th>Volume (uL)</th>\n",
       "    </tr>\n",
       "  </thead>\n",
       "  <tbody>\n",
       "    <tr>\n",
       "      <th>5000x Sypro (uL)</th>\n",
       "      <td>0.69</td>\n",
       "    </tr>\n",
       "    <tr>\n",
       "      <th>Buffer (uL)</th>\n",
       "      <td>16.56</td>\n",
       "    </tr>\n",
       "    <tr>\n",
       "      <th>Total Volume (uL)</th>\n",
       "      <td>17.25</td>\n",
       "    </tr>\n",
       "  </tbody>\n",
       "</table>\n",
       "</div>"
      ],
      "text/plain": [
       "200x Sypro Calc    Volume (uL)\n",
       "5000x Sypro (uL)          0.69\n",
       "Buffer (uL)              16.56\n",
       "Total Volume (uL)        17.25"
      ]
     },
     "metadata": {},
     "output_type": "display_data"
    }
   ],
   "source": [
    "run_dsf_calcs()"
   ]
  },
  {
   "cell_type": "code",
   "execution_count": 378,
   "id": "0a7e0178-6c03-497b-9e52-159c752f9078",
   "metadata": {},
   "outputs": [
    {
     "name": "stdout",
     "output_type": "stream",
     "text": [
      "Here are all the tables for your DSF calculations\n"
     ]
    },
    {
     "data": {
      "text/html": [
       "<div>\n",
       "<style scoped>\n",
       "    .dataframe tbody tr th:only-of-type {\n",
       "        vertical-align: middle;\n",
       "    }\n",
       "\n",
       "    .dataframe tbody tr th {\n",
       "        vertical-align: top;\n",
       "    }\n",
       "\n",
       "    .dataframe thead th {\n",
       "        text-align: right;\n",
       "    }\n",
       "</style>\n",
       "<table border=\"1\" class=\"dataframe\">\n",
       "  <thead>\n",
       "    <tr style=\"text-align: right;\">\n",
       "      <th>Control Calcs</th>\n",
       "      <th>Lysozyme (Diluted)</th>\n",
       "      <th>Water</th>\n",
       "    </tr>\n",
       "  </thead>\n",
       "  <tbody>\n",
       "    <tr>\n",
       "      <th>Buffer (uL)</th>\n",
       "      <td>60.00</td>\n",
       "      <td>60.0</td>\n",
       "    </tr>\n",
       "    <tr>\n",
       "      <th>Nanopure (uL)</th>\n",
       "      <td>139.68</td>\n",
       "      <td>174.0</td>\n",
       "    </tr>\n",
       "    <tr>\n",
       "      <th>Lysozyme/Water (uL)</th>\n",
       "      <td>34.32</td>\n",
       "      <td>0.0</td>\n",
       "    </tr>\n",
       "    <tr>\n",
       "      <th>Sypro Dilution (uL)</th>\n",
       "      <td>6.00</td>\n",
       "      <td>6.0</td>\n",
       "    </tr>\n",
       "  </tbody>\n",
       "</table>\n",
       "</div>"
      ],
      "text/plain": [
       "Control Calcs        Lysozyme (Diluted)  Water\n",
       "Buffer (uL)                       60.00   60.0\n",
       "Nanopure (uL)                    139.68  174.0\n",
       "Lysozyme/Water (uL)               34.32    0.0\n",
       "Sypro Dilution (uL)                6.00    6.0"
      ]
     },
     "metadata": {},
     "output_type": "display_data"
    },
    {
     "data": {
      "text/html": [
       "<div>\n",
       "<style scoped>\n",
       "    .dataframe tbody tr th:only-of-type {\n",
       "        vertical-align: middle;\n",
       "    }\n",
       "\n",
       "    .dataframe tbody tr th {\n",
       "        vertical-align: top;\n",
       "    }\n",
       "\n",
       "    .dataframe thead th {\n",
       "        text-align: right;\n",
       "    }\n",
       "</style>\n",
       "<table border=\"1\" class=\"dataframe\">\n",
       "  <thead>\n",
       "    <tr style=\"text-align: right;\">\n",
       "      <th>Elution 1 Calcs</th>\n",
       "      <th>5.0 uM</th>\n",
       "      <th>10.0 uM</th>\n",
       "      <th>20.0 uM</th>\n",
       "    </tr>\n",
       "  </thead>\n",
       "  <tbody>\n",
       "    <tr>\n",
       "      <th>Buffer (uL)</th>\n",
       "      <td>20.00</td>\n",
       "      <td>20.00</td>\n",
       "      <td>20.00</td>\n",
       "    </tr>\n",
       "    <tr>\n",
       "      <th>Nanopure (uL)</th>\n",
       "      <td>51.52</td>\n",
       "      <td>45.04</td>\n",
       "      <td>32.07</td>\n",
       "    </tr>\n",
       "    <tr>\n",
       "      <th>Elution (uL)</th>\n",
       "      <td>6.48</td>\n",
       "      <td>12.96</td>\n",
       "      <td>25.93</td>\n",
       "    </tr>\n",
       "    <tr>\n",
       "      <th>Sypro Dilution (uL)</th>\n",
       "      <td>2.00</td>\n",
       "      <td>2.00</td>\n",
       "      <td>2.00</td>\n",
       "    </tr>\n",
       "  </tbody>\n",
       "</table>\n",
       "</div>"
      ],
      "text/plain": [
       "Elution 1 Calcs      5.0 uM  10.0 uM  20.0 uM\n",
       "Buffer (uL)           20.00    20.00    20.00\n",
       "Nanopure (uL)         51.52    45.04    32.07\n",
       "Elution (uL)           6.48    12.96    25.93\n",
       "Sypro Dilution (uL)    2.00     2.00     2.00"
      ]
     },
     "metadata": {},
     "output_type": "display_data"
    },
    {
     "data": {
      "text/html": [
       "<div>\n",
       "<style scoped>\n",
       "    .dataframe tbody tr th:only-of-type {\n",
       "        vertical-align: middle;\n",
       "    }\n",
       "\n",
       "    .dataframe tbody tr th {\n",
       "        vertical-align: top;\n",
       "    }\n",
       "\n",
       "    .dataframe thead th {\n",
       "        text-align: right;\n",
       "    }\n",
       "</style>\n",
       "<table border=\"1\" class=\"dataframe\">\n",
       "  <thead>\n",
       "    <tr style=\"text-align: right;\">\n",
       "      <th>Elution 2 Calcs</th>\n",
       "      <th>5.0 uM</th>\n",
       "      <th>10.0 uM</th>\n",
       "      <th>20.0 uM</th>\n",
       "    </tr>\n",
       "  </thead>\n",
       "  <tbody>\n",
       "    <tr>\n",
       "      <th>Buffer (uL)</th>\n",
       "      <td>20.00</td>\n",
       "      <td>20.00</td>\n",
       "      <td>20.00</td>\n",
       "    </tr>\n",
       "    <tr>\n",
       "      <th>Nanopure (uL)</th>\n",
       "      <td>44.49</td>\n",
       "      <td>30.97</td>\n",
       "      <td>3.95</td>\n",
       "    </tr>\n",
       "    <tr>\n",
       "      <th>Elution (uL)</th>\n",
       "      <td>13.51</td>\n",
       "      <td>27.03</td>\n",
       "      <td>54.05</td>\n",
       "    </tr>\n",
       "    <tr>\n",
       "      <th>Sypro Dilution (uL)</th>\n",
       "      <td>2.00</td>\n",
       "      <td>2.00</td>\n",
       "      <td>2.00</td>\n",
       "    </tr>\n",
       "  </tbody>\n",
       "</table>\n",
       "</div>"
      ],
      "text/plain": [
       "Elution 2 Calcs      5.0 uM  10.0 uM  20.0 uM\n",
       "Buffer (uL)           20.00    20.00    20.00\n",
       "Nanopure (uL)         44.49    30.97     3.95\n",
       "Elution (uL)          13.51    27.03    54.05\n",
       "Sypro Dilution (uL)    2.00     2.00     2.00"
      ]
     },
     "metadata": {},
     "output_type": "display_data"
    },
    {
     "data": {
      "text/html": [
       "<div>\n",
       "<style scoped>\n",
       "    .dataframe tbody tr th:only-of-type {\n",
       "        vertical-align: middle;\n",
       "    }\n",
       "\n",
       "    .dataframe tbody tr th {\n",
       "        vertical-align: top;\n",
       "    }\n",
       "\n",
       "    .dataframe thead th {\n",
       "        text-align: right;\n",
       "    }\n",
       "</style>\n",
       "<table border=\"1\" class=\"dataframe\">\n",
       "  <thead>\n",
       "    <tr style=\"text-align: right;\">\n",
       "      <th>200x Sypro Calc</th>\n",
       "      <th>Volume (uL)</th>\n",
       "    </tr>\n",
       "  </thead>\n",
       "  <tbody>\n",
       "    <tr>\n",
       "      <th>5000x Sypro (uL)</th>\n",
       "      <td>0.69</td>\n",
       "    </tr>\n",
       "    <tr>\n",
       "      <th>Buffer (uL)</th>\n",
       "      <td>16.56</td>\n",
       "    </tr>\n",
       "    <tr>\n",
       "      <th>Total Volume (uL)</th>\n",
       "      <td>17.25</td>\n",
       "    </tr>\n",
       "  </tbody>\n",
       "</table>\n",
       "</div>"
      ],
      "text/plain": [
       "200x Sypro Calc    Volume (uL)\n",
       "5000x Sypro (uL)          0.69\n",
       "Buffer (uL)              16.56\n",
       "Total Volume (uL)        17.25"
      ]
     },
     "metadata": {},
     "output_type": "display_data"
    }
   ],
   "source": [
    "print_df_tables()"
   ]
  },
  {
   "cell_type": "code",
   "execution_count": 375,
   "id": "abaf40a6-228c-4330-b541-6c983c2ec298",
   "metadata": {},
   "outputs": [],
   "source": [
    "#use to reset all the tables\n",
    "df_list.clear()"
   ]
  }
 ],
 "metadata": {
  "kernelspec": {
   "display_name": "Python 3 (ipykernel)",
   "language": "python",
   "name": "python3"
  },
  "language_info": {
   "codemirror_mode": {
    "name": "ipython",
    "version": 3
   },
   "file_extension": ".py",
   "mimetype": "text/x-python",
   "name": "python",
   "nbconvert_exporter": "python",
   "pygments_lexer": "ipython3",
   "version": "3.11.7"
  }
 },
 "nbformat": 4,
 "nbformat_minor": 5
}
